{
  "nbformat": 4,
  "nbformat_minor": 0,
  "metadata": {
    "colab": {
      "name": "Prime_numbers.ipynb",
      "provenance": [],
      "collapsed_sections": []
    },
    "kernelspec": {
      "name": "python3",
      "display_name": "Python 3"
    }
  },
  "cells": [
    {
      "cell_type": "code",
      "metadata": {
        "id": "9OQjeBjuBbjN",
        "colab_type": "code",
        "colab": {}
      },
      "source": [
        "def prime_number(n):\n",
        "  if n>1:\n",
        "    for i in range(2,n):\n",
        "      if (n%i) == 0:\n",
        "        print(n, ' is not a prime number')\n",
        "        break\n",
        "      else:\n",
        "        print(n, ' is a prime number')\n",
        "        break\n",
        "  else:\n",
        "    print(n,' is not a prime number')"
      ],
      "execution_count": 0,
      "outputs": []
    },
    {
      "cell_type": "code",
      "metadata": {
        "id": "4q480LGqDJ7_",
        "colab_type": "code",
        "colab": {
          "base_uri": "https://localhost:8080/",
          "height": 34
        },
        "outputId": "2c106363-f9c6-421b-cd8e-1bc381b25405"
      },
      "source": [
        "prime_number(10)"
      ],
      "execution_count": 24,
      "outputs": [
        {
          "output_type": "stream",
          "text": [
            "10  is not a prime number\n"
          ],
          "name": "stdout"
        }
      ]
    },
    {
      "cell_type": "code",
      "metadata": {
        "id": "HzrQU0HJKsc4",
        "colab_type": "code",
        "colab": {}
      },
      "source": [
        "import math"
      ],
      "execution_count": 0,
      "outputs": []
    },
    {
      "cell_type": "code",
      "metadata": {
        "id": "rf6fdZreFCrC",
        "colab_type": "code",
        "colab": {}
      },
      "source": [
        "def nthprime(n):   # then generic code for nth prime number\n",
        "    x=[]\n",
        "    j=2\n",
        "    while len(x)<n:\n",
        "        if (prime_number(j)) == True:\n",
        "            x.append(j)\n",
        "        j =j+1\n",
        "    print(x[n-1])"
      ],
      "execution_count": 0,
      "outputs": []
    },
    {
      "cell_type": "code",
      "metadata": {
        "id": "IEnEFD1PJFtP",
        "colab_type": "code",
        "colab": {
          "base_uri": "https://localhost:8080/",
          "height": 162
        },
        "outputId": "b7ddc93a-e303-40da-921a-ea9b1ae2ea89"
      },
      "source": [
        "nthprime(3)"
      ],
      "execution_count": 2,
      "outputs": [
        {
          "output_type": "error",
          "ename": "NameError",
          "evalue": "ignored",
          "traceback": [
            "\u001b[0;31m---------------------------------------------------------------------------\u001b[0m",
            "\u001b[0;31mNameError\u001b[0m                                 Traceback (most recent call last)",
            "\u001b[0;32m<ipython-input-2-4803bcb780c2>\u001b[0m in \u001b[0;36m<module>\u001b[0;34m()\u001b[0m\n\u001b[0;32m----> 1\u001b[0;31m \u001b[0mnthprime\u001b[0m\u001b[0;34m(\u001b[0m\u001b[0;36m3\u001b[0m\u001b[0;34m)\u001b[0m\u001b[0;34m\u001b[0m\u001b[0;34m\u001b[0m\u001b[0m\n\u001b[0m",
            "\u001b[0;31mNameError\u001b[0m: name 'nthprime' is not defined"
          ]
        }
      ]
    },
    {
      "cell_type": "code",
      "metadata": {
        "id": "Cy-5fP2sMaiM",
        "colab_type": "code",
        "colab": {}
      },
      "source": [
        "def next_prime(n):\n",
        "    for i in range(2,int(math.sqrt(n))+1):\n",
        "        if n%i == 0:\n",
        "            return next_prime(n+1)\n",
        "    return n"
      ],
      "execution_count": 0,
      "outputs": []
    },
    {
      "cell_type": "code",
      "metadata": {
        "id": "8PEeoxM4MiZg",
        "colab_type": "code",
        "colab": {
          "base_uri": "https://localhost:8080/",
          "height": 34
        },
        "outputId": "91d2d6be-028c-4a19-a45a-225ace1dd41a"
      },
      "source": [
        "next_prime(9)"
      ],
      "execution_count": 14,
      "outputs": [
        {
          "output_type": "execute_result",
          "data": {
            "text/plain": [
              "11"
            ]
          },
          "metadata": {
            "tags": []
          },
          "execution_count": 14
        }
      ]
    }
  ]
}