{
  "nbformat": 4,
  "nbformat_minor": 0,
  "metadata": {
    "colab": {
      "name": "All_Words_Except_B_and_G.ipynb",
      "provenance": []
    },
    "kernelspec": {
      "name": "python3",
      "display_name": "Python 3"
    }
  },
  "cells": [
    {
      "cell_type": "code",
      "metadata": {
        "id": "y_AYIausrqOs",
        "colab_type": "code",
        "colab": {}
      },
      "source": [
        "import pandas as pd"
      ],
      "execution_count": 0,
      "outputs": []
    },
    {
      "cell_type": "code",
      "metadata": {
        "id": "wc8ITGmWtATX",
        "colab_type": "code",
        "colab": {}
      },
      "source": [
        "df = pd.read_json('http://snap.stanford.edu/data/amazon/productGraph/categoryFiles/reviews_Office_Products_5.json.gz', lines=True)"
      ],
      "execution_count": 0,
      "outputs": []
    },
    {
      "cell_type": "code",
      "metadata": {
        "id": "k1maSD6itPyl",
        "colab_type": "code",
        "outputId": "16387e51-0354-4476-8fd5-5c6b9934d9fb",
        "colab": {
          "base_uri": "https://localhost:8080/",
          "height": 229
        }
      },
      "source": [
        "df.head()"
      ],
      "execution_count": 5,
      "outputs": [
        {
          "output_type": "execute_result",
          "data": {
            "text/html": [
              "<div>\n",
              "<style scoped>\n",
              "    .dataframe tbody tr th:only-of-type {\n",
              "        vertical-align: middle;\n",
              "    }\n",
              "\n",
              "    .dataframe tbody tr th {\n",
              "        vertical-align: top;\n",
              "    }\n",
              "\n",
              "    .dataframe thead th {\n",
              "        text-align: right;\n",
              "    }\n",
              "</style>\n",
              "<table border=\"1\" class=\"dataframe\">\n",
              "  <thead>\n",
              "    <tr style=\"text-align: right;\">\n",
              "      <th></th>\n",
              "      <th>reviewerID</th>\n",
              "      <th>asin</th>\n",
              "      <th>reviewerName</th>\n",
              "      <th>helpful</th>\n",
              "      <th>reviewText</th>\n",
              "      <th>overall</th>\n",
              "      <th>summary</th>\n",
              "      <th>unixReviewTime</th>\n",
              "      <th>reviewTime</th>\n",
              "    </tr>\n",
              "  </thead>\n",
              "  <tbody>\n",
              "    <tr>\n",
              "      <th>0</th>\n",
              "      <td>A32T2H8150OJLU</td>\n",
              "      <td>B00000JBLH</td>\n",
              "      <td>ARH</td>\n",
              "      <td>[3, 4]</td>\n",
              "      <td>I bought my first HP12C in about 1984 or so, a...</td>\n",
              "      <td>5</td>\n",
              "      <td>A solid performer, and long time friend</td>\n",
              "      <td>1094169600</td>\n",
              "      <td>09 3, 2004</td>\n",
              "    </tr>\n",
              "    <tr>\n",
              "      <th>1</th>\n",
              "      <td>A3MAFS04ZABRGO</td>\n",
              "      <td>B00000JBLH</td>\n",
              "      <td>Let it Be \"Alan\"</td>\n",
              "      <td>[7, 9]</td>\n",
              "      <td>WHY THIS BELATED REVIEW? I feel very obliged t...</td>\n",
              "      <td>5</td>\n",
              "      <td>Price of GOLD is up, so don't bury the golden ...</td>\n",
              "      <td>1197676800</td>\n",
              "      <td>12 15, 2007</td>\n",
              "    </tr>\n",
              "    <tr>\n",
              "      <th>2</th>\n",
              "      <td>A1F1A0QQP2XVH5</td>\n",
              "      <td>B00000JBLH</td>\n",
              "      <td>Mark B</td>\n",
              "      <td>[3, 3]</td>\n",
              "      <td>I have an HP 48GX that has been kicking for mo...</td>\n",
              "      <td>2</td>\n",
              "      <td>Good functionality, but not durable like old HPs</td>\n",
              "      <td>1293840000</td>\n",
              "      <td>01 1, 2011</td>\n",
              "    </tr>\n",
              "    <tr>\n",
              "      <th>3</th>\n",
              "      <td>A49R5DBXXQDE5</td>\n",
              "      <td>B00000JBLH</td>\n",
              "      <td>R. D Johnson</td>\n",
              "      <td>[7, 8]</td>\n",
              "      <td>I've started doing more finance stuff recently...</td>\n",
              "      <td>5</td>\n",
              "      <td>One of the last of an almost extinct species</td>\n",
              "      <td>1145404800</td>\n",
              "      <td>04 19, 2006</td>\n",
              "    </tr>\n",
              "    <tr>\n",
              "      <th>4</th>\n",
              "      <td>A2XRMQA6PJ5ZJ8</td>\n",
              "      <td>B00000JBLH</td>\n",
              "      <td>Roger J. Buffington</td>\n",
              "      <td>[0, 0]</td>\n",
              "      <td>For simple calculations and discounted cash fl...</td>\n",
              "      <td>5</td>\n",
              "      <td>Still the best</td>\n",
              "      <td>1375574400</td>\n",
              "      <td>08 4, 2013</td>\n",
              "    </tr>\n",
              "  </tbody>\n",
              "</table>\n",
              "</div>"
            ],
            "text/plain": [
              "       reviewerID        asin  ... unixReviewTime   reviewTime\n",
              "0  A32T2H8150OJLU  B00000JBLH  ...     1094169600   09 3, 2004\n",
              "1  A3MAFS04ZABRGO  B00000JBLH  ...     1197676800  12 15, 2007\n",
              "2  A1F1A0QQP2XVH5  B00000JBLH  ...     1293840000   01 1, 2011\n",
              "3   A49R5DBXXQDE5  B00000JBLH  ...     1145404800  04 19, 2006\n",
              "4  A2XRMQA6PJ5ZJ8  B00000JBLH  ...     1375574400   08 4, 2013\n",
              "\n",
              "[5 rows x 9 columns]"
            ]
          },
          "metadata": {
            "tags": []
          },
          "execution_count": 5
        }
      ]
    },
    {
      "cell_type": "code",
      "metadata": {
        "id": "aSn2iRTFtP7i",
        "colab_type": "code",
        "colab": {}
      },
      "source": [
        "def count_of_each_word(l):\n",
        "  d={}\n",
        "  for x in l.split():\n",
        "    if x in d:\n",
        "      d[x] += 1\n",
        "    else:\n",
        "      d[x] = 1\n",
        "  return d"
      ],
      "execution_count": 0,
      "outputs": []
    },
    {
      "cell_type": "code",
      "metadata": {
        "id": "hzCrd2I1tQBt",
        "colab_type": "code",
        "colab": {}
      },
      "source": [
        "df['count_of_each_word_in_reviewText']= df['reviewText'].apply(count_of_each_word)\n",
        "df['count_of_each_word_in_summary']= df['summary'].apply(count_of_each_word)"
      ],
      "execution_count": 0,
      "outputs": []
    },
    {
      "cell_type": "code",
      "metadata": {
        "id": "ciXeFVHhtQEV",
        "colab_type": "code",
        "outputId": "fb55dc60-1e0e-4b73-e7c4-62fd1908dbb3",
        "colab": {
          "base_uri": "https://localhost:8080/",
          "height": 548
        }
      },
      "source": [
        "df.head()"
      ],
      "execution_count": 8,
      "outputs": [
        {
          "output_type": "execute_result",
          "data": {
            "text/html": [
              "<div>\n",
              "<style scoped>\n",
              "    .dataframe tbody tr th:only-of-type {\n",
              "        vertical-align: middle;\n",
              "    }\n",
              "\n",
              "    .dataframe tbody tr th {\n",
              "        vertical-align: top;\n",
              "    }\n",
              "\n",
              "    .dataframe thead th {\n",
              "        text-align: right;\n",
              "    }\n",
              "</style>\n",
              "<table border=\"1\" class=\"dataframe\">\n",
              "  <thead>\n",
              "    <tr style=\"text-align: right;\">\n",
              "      <th></th>\n",
              "      <th>reviewerID</th>\n",
              "      <th>asin</th>\n",
              "      <th>reviewerName</th>\n",
              "      <th>helpful</th>\n",
              "      <th>reviewText</th>\n",
              "      <th>overall</th>\n",
              "      <th>summary</th>\n",
              "      <th>unixReviewTime</th>\n",
              "      <th>reviewTime</th>\n",
              "      <th>count_of_each_word_in_reviewText</th>\n",
              "      <th>count_of_each_word_in_summary</th>\n",
              "    </tr>\n",
              "  </thead>\n",
              "  <tbody>\n",
              "    <tr>\n",
              "      <th>0</th>\n",
              "      <td>A32T2H8150OJLU</td>\n",
              "      <td>B00000JBLH</td>\n",
              "      <td>ARH</td>\n",
              "      <td>[3, 4]</td>\n",
              "      <td>I bought my first HP12C in about 1984 or so, a...</td>\n",
              "      <td>5</td>\n",
              "      <td>A solid performer, and long time friend</td>\n",
              "      <td>1094169600</td>\n",
              "      <td>09 3, 2004</td>\n",
              "      <td>{'I': 7, 'bought': 1, 'my': 4, 'first': 1, 'HP...</td>\n",
              "      <td>{'A': 1, 'solid': 1, 'performer,': 1, 'and': 1...</td>\n",
              "    </tr>\n",
              "    <tr>\n",
              "      <th>1</th>\n",
              "      <td>A3MAFS04ZABRGO</td>\n",
              "      <td>B00000JBLH</td>\n",
              "      <td>Let it Be \"Alan\"</td>\n",
              "      <td>[7, 9]</td>\n",
              "      <td>WHY THIS BELATED REVIEW? I feel very obliged t...</td>\n",
              "      <td>5</td>\n",
              "      <td>Price of GOLD is up, so don't bury the golden ...</td>\n",
              "      <td>1197676800</td>\n",
              "      <td>12 15, 2007</td>\n",
              "      <td>{'WHY': 1, 'THIS': 2, 'BELATED': 1, 'REVIEW?':...</td>\n",
              "      <td>{'Price': 1, 'of': 1, 'GOLD': 1, 'is': 1, 'up,...</td>\n",
              "    </tr>\n",
              "    <tr>\n",
              "      <th>2</th>\n",
              "      <td>A1F1A0QQP2XVH5</td>\n",
              "      <td>B00000JBLH</td>\n",
              "      <td>Mark B</td>\n",
              "      <td>[3, 3]</td>\n",
              "      <td>I have an HP 48GX that has been kicking for mo...</td>\n",
              "      <td>2</td>\n",
              "      <td>Good functionality, but not durable like old HPs</td>\n",
              "      <td>1293840000</td>\n",
              "      <td>01 1, 2011</td>\n",
              "      <td>{'I': 2, 'have': 2, 'an': 2, 'HP': 3, '48GX': ...</td>\n",
              "      <td>{'Good': 1, 'functionality,': 1, 'but': 1, 'no...</td>\n",
              "    </tr>\n",
              "    <tr>\n",
              "      <th>3</th>\n",
              "      <td>A49R5DBXXQDE5</td>\n",
              "      <td>B00000JBLH</td>\n",
              "      <td>R. D Johnson</td>\n",
              "      <td>[7, 8]</td>\n",
              "      <td>I've started doing more finance stuff recently...</td>\n",
              "      <td>5</td>\n",
              "      <td>One of the last of an almost extinct species</td>\n",
              "      <td>1145404800</td>\n",
              "      <td>04 19, 2006</td>\n",
              "      <td>{'I've': 4, 'started': 1, 'doing': 2, 'more': ...</td>\n",
              "      <td>{'One': 1, 'of': 2, 'the': 1, 'last': 1, 'an':...</td>\n",
              "    </tr>\n",
              "    <tr>\n",
              "      <th>4</th>\n",
              "      <td>A2XRMQA6PJ5ZJ8</td>\n",
              "      <td>B00000JBLH</td>\n",
              "      <td>Roger J. Buffington</td>\n",
              "      <td>[0, 0]</td>\n",
              "      <td>For simple calculations and discounted cash fl...</td>\n",
              "      <td>5</td>\n",
              "      <td>Still the best</td>\n",
              "      <td>1375574400</td>\n",
              "      <td>08 4, 2013</td>\n",
              "      <td>{'For': 1, 'simple': 1, 'calculations': 2, 'an...</td>\n",
              "      <td>{'Still': 1, 'the': 1, 'best': 1}</td>\n",
              "    </tr>\n",
              "  </tbody>\n",
              "</table>\n",
              "</div>"
            ],
            "text/plain": [
              "       reviewerID  ...                      count_of_each_word_in_summary\n",
              "0  A32T2H8150OJLU  ...  {'A': 1, 'solid': 1, 'performer,': 1, 'and': 1...\n",
              "1  A3MAFS04ZABRGO  ...  {'Price': 1, 'of': 1, 'GOLD': 1, 'is': 1, 'up,...\n",
              "2  A1F1A0QQP2XVH5  ...  {'Good': 1, 'functionality,': 1, 'but': 1, 'no...\n",
              "3   A49R5DBXXQDE5  ...  {'One': 1, 'of': 2, 'the': 1, 'last': 1, 'an':...\n",
              "4  A2XRMQA6PJ5ZJ8  ...                  {'Still': 1, 'the': 1, 'best': 1}\n",
              "\n",
              "[5 rows x 11 columns]"
            ]
          },
          "metadata": {
            "tags": []
          },
          "execution_count": 8
        }
      ]
    },
    {
      "cell_type": "code",
      "metadata": {
        "id": "oTF7CATztQHC",
        "colab_type": "code",
        "colab": {}
      },
      "source": [
        "def count_vowels_consonents(l):\n",
        "  d1= {'vowels': 0 , 'consonents':0}\n",
        "  l1 = ['a','e','i','o','u','A','E','I','O','U']\n",
        "  for x in l.split():\n",
        "    if x in l1:\n",
        "      d1['vowels'] +=1\n",
        "    else:\n",
        "      d1['consonents'] +=1\n",
        "  return d1"
      ],
      "execution_count": 0,
      "outputs": []
    },
    {
      "cell_type": "code",
      "metadata": {
        "id": "6SUUpFEgtQJq",
        "colab_type": "code",
        "colab": {}
      },
      "source": [
        "df['count_vowels_consonents_in_reviewText']= df['reviewText'].apply(count_vowels_consonents)\n",
        "df['count_vowels_consonents_in_summary']= df['summary'].apply(count_vowels_consonents)"
      ],
      "execution_count": 0,
      "outputs": []
    },
    {
      "cell_type": "code",
      "metadata": {
        "id": "sKSMYP7ltQMQ",
        "colab_type": "code",
        "outputId": "f7900cee-5552-4cb2-f3cf-9d8a2e7ada4f",
        "colab": {
          "base_uri": "https://localhost:8080/",
          "height": 568
        }
      },
      "source": [
        "df.head()"
      ],
      "execution_count": 11,
      "outputs": [
        {
          "output_type": "execute_result",
          "data": {
            "text/html": [
              "<div>\n",
              "<style scoped>\n",
              "    .dataframe tbody tr th:only-of-type {\n",
              "        vertical-align: middle;\n",
              "    }\n",
              "\n",
              "    .dataframe tbody tr th {\n",
              "        vertical-align: top;\n",
              "    }\n",
              "\n",
              "    .dataframe thead th {\n",
              "        text-align: right;\n",
              "    }\n",
              "</style>\n",
              "<table border=\"1\" class=\"dataframe\">\n",
              "  <thead>\n",
              "    <tr style=\"text-align: right;\">\n",
              "      <th></th>\n",
              "      <th>reviewerID</th>\n",
              "      <th>asin</th>\n",
              "      <th>reviewerName</th>\n",
              "      <th>helpful</th>\n",
              "      <th>reviewText</th>\n",
              "      <th>overall</th>\n",
              "      <th>summary</th>\n",
              "      <th>unixReviewTime</th>\n",
              "      <th>reviewTime</th>\n",
              "      <th>count_of_each_word_in_reviewText</th>\n",
              "      <th>count_of_each_word_in_summary</th>\n",
              "      <th>count_vowels_consonents_in_reviewText</th>\n",
              "      <th>count_vowels_consonents_in_summary</th>\n",
              "    </tr>\n",
              "  </thead>\n",
              "  <tbody>\n",
              "    <tr>\n",
              "      <th>0</th>\n",
              "      <td>A32T2H8150OJLU</td>\n",
              "      <td>B00000JBLH</td>\n",
              "      <td>ARH</td>\n",
              "      <td>[3, 4]</td>\n",
              "      <td>I bought my first HP12C in about 1984 or so, a...</td>\n",
              "      <td>5</td>\n",
              "      <td>A solid performer, and long time friend</td>\n",
              "      <td>1094169600</td>\n",
              "      <td>09 3, 2004</td>\n",
              "      <td>{'I': 7, 'bought': 1, 'my': 4, 'first': 1, 'HP...</td>\n",
              "      <td>{'A': 1, 'solid': 1, 'performer,': 1, 'and': 1...</td>\n",
              "      <td>{'vowels': 12, 'consonents': 174}</td>\n",
              "      <td>{'vowels': 1, 'consonents': 6}</td>\n",
              "    </tr>\n",
              "    <tr>\n",
              "      <th>1</th>\n",
              "      <td>A3MAFS04ZABRGO</td>\n",
              "      <td>B00000JBLH</td>\n",
              "      <td>Let it Be \"Alan\"</td>\n",
              "      <td>[7, 9]</td>\n",
              "      <td>WHY THIS BELATED REVIEW? I feel very obliged t...</td>\n",
              "      <td>5</td>\n",
              "      <td>Price of GOLD is up, so don't bury the golden ...</td>\n",
              "      <td>1197676800</td>\n",
              "      <td>12 15, 2007</td>\n",
              "      <td>{'WHY': 1, 'THIS': 2, 'BELATED': 1, 'REVIEW?':...</td>\n",
              "      <td>{'Price': 1, 'of': 1, 'GOLD': 1, 'is': 1, 'up,...</td>\n",
              "      <td>{'vowels': 20, 'consonents': 891}</td>\n",
              "      <td>{'vowels': 0, 'consonents': 13}</td>\n",
              "    </tr>\n",
              "    <tr>\n",
              "      <th>2</th>\n",
              "      <td>A1F1A0QQP2XVH5</td>\n",
              "      <td>B00000JBLH</td>\n",
              "      <td>Mark B</td>\n",
              "      <td>[3, 3]</td>\n",
              "      <td>I have an HP 48GX that has been kicking for mo...</td>\n",
              "      <td>2</td>\n",
              "      <td>Good functionality, but not durable like old HPs</td>\n",
              "      <td>1293840000</td>\n",
              "      <td>01 1, 2011</td>\n",
              "      <td>{'I': 2, 'have': 2, 'an': 2, 'HP': 3, '48GX': ...</td>\n",
              "      <td>{'Good': 1, 'functionality,': 1, 'but': 1, 'no...</td>\n",
              "      <td>{'vowels': 3, 'consonents': 93}</td>\n",
              "      <td>{'vowels': 0, 'consonents': 8}</td>\n",
              "    </tr>\n",
              "    <tr>\n",
              "      <th>3</th>\n",
              "      <td>A49R5DBXXQDE5</td>\n",
              "      <td>B00000JBLH</td>\n",
              "      <td>R. D Johnson</td>\n",
              "      <td>[7, 8]</td>\n",
              "      <td>I've started doing more finance stuff recently...</td>\n",
              "      <td>5</td>\n",
              "      <td>One of the last of an almost extinct species</td>\n",
              "      <td>1145404800</td>\n",
              "      <td>04 19, 2006</td>\n",
              "      <td>{'I've': 4, 'started': 1, 'doing': 2, 'more': ...</td>\n",
              "      <td>{'One': 1, 'of': 2, 'the': 1, 'last': 1, 'an':...</td>\n",
              "      <td>{'vowels': 33, 'consonents': 570}</td>\n",
              "      <td>{'vowels': 0, 'consonents': 9}</td>\n",
              "    </tr>\n",
              "    <tr>\n",
              "      <th>4</th>\n",
              "      <td>A2XRMQA6PJ5ZJ8</td>\n",
              "      <td>B00000JBLH</td>\n",
              "      <td>Roger J. Buffington</td>\n",
              "      <td>[0, 0]</td>\n",
              "      <td>For simple calculations and discounted cash fl...</td>\n",
              "      <td>5</td>\n",
              "      <td>Still the best</td>\n",
              "      <td>1375574400</td>\n",
              "      <td>08 4, 2013</td>\n",
              "      <td>{'For': 1, 'simple': 1, 'calculations': 2, 'an...</td>\n",
              "      <td>{'Still': 1, 'the': 1, 'best': 1}</td>\n",
              "      <td>{'vowels': 4, 'consonents': 116}</td>\n",
              "      <td>{'vowels': 0, 'consonents': 3}</td>\n",
              "    </tr>\n",
              "  </tbody>\n",
              "</table>\n",
              "</div>"
            ],
            "text/plain": [
              "       reviewerID  ... count_vowels_consonents_in_summary\n",
              "0  A32T2H8150OJLU  ...     {'vowels': 1, 'consonents': 6}\n",
              "1  A3MAFS04ZABRGO  ...    {'vowels': 0, 'consonents': 13}\n",
              "2  A1F1A0QQP2XVH5  ...     {'vowels': 0, 'consonents': 8}\n",
              "3   A49R5DBXXQDE5  ...     {'vowels': 0, 'consonents': 9}\n",
              "4  A2XRMQA6PJ5ZJ8  ...     {'vowels': 0, 'consonents': 3}\n",
              "\n",
              "[5 rows x 13 columns]"
            ]
          },
          "metadata": {
            "tags": []
          },
          "execution_count": 11
        }
      ]
    },
    {
      "cell_type": "code",
      "metadata": {
        "id": "KEkQMsG_tQPX",
        "colab_type": "code",
        "colab": {}
      },
      "source": [
        "import re"
      ],
      "execution_count": 0,
      "outputs": []
    },
    {
      "cell_type": "code",
      "metadata": {
        "id": "974PtVGTtQR7",
        "colab_type": "code",
        "colab": {}
      },
      "source": [
        "def words_that_start_with_B_and_end_with_G(l):\n",
        "  b = re.findall(r'\\b[bB]\\w+', l)\n",
        "  g = re.findall(r'\\b\\w+[gG]\\b',l)\n",
        "  for x in g:\n",
        "    if x not in b:\n",
        "      b.append(x)\n",
        "  return b"
      ],
      "execution_count": 0,
      "outputs": []
    },
    {
      "cell_type": "code",
      "metadata": {
        "id": "Nx24X1WLtQVG",
        "colab_type": "code",
        "colab": {}
      },
      "source": [
        "df['words_that_start_with_B_and_end_with_G_for_reviewText']= df['reviewText'].apply(words_that_start_with_B_and_end_with_G)\n",
        "df['words_that_start_with_B_and_end_with_G_for_summary']= df['summary'].apply(words_that_start_with_B_and_end_with_G)"
      ],
      "execution_count": 0,
      "outputs": []
    },
    {
      "cell_type": "code",
      "metadata": {
        "id": "QgCTwr98tQX3",
        "colab_type": "code",
        "colab": {
          "base_uri": "https://localhost:8080/",
          "height": 568
        },
        "outputId": "0637e455-27b6-44ea-fe85-a3cfcfaea662"
      },
      "source": [
        "df.head()"
      ],
      "execution_count": 26,
      "outputs": [
        {
          "output_type": "execute_result",
          "data": {
            "text/html": [
              "<div>\n",
              "<style scoped>\n",
              "    .dataframe tbody tr th:only-of-type {\n",
              "        vertical-align: middle;\n",
              "    }\n",
              "\n",
              "    .dataframe tbody tr th {\n",
              "        vertical-align: top;\n",
              "    }\n",
              "\n",
              "    .dataframe thead th {\n",
              "        text-align: right;\n",
              "    }\n",
              "</style>\n",
              "<table border=\"1\" class=\"dataframe\">\n",
              "  <thead>\n",
              "    <tr style=\"text-align: right;\">\n",
              "      <th></th>\n",
              "      <th>reviewerID</th>\n",
              "      <th>asin</th>\n",
              "      <th>reviewerName</th>\n",
              "      <th>helpful</th>\n",
              "      <th>reviewText</th>\n",
              "      <th>overall</th>\n",
              "      <th>summary</th>\n",
              "      <th>unixReviewTime</th>\n",
              "      <th>reviewTime</th>\n",
              "      <th>count_of_each_word_in_reviewText</th>\n",
              "      <th>count_of_each_word_in_summary</th>\n",
              "      <th>count_vowels_consonents_in_reviewText</th>\n",
              "      <th>count_vowels_consonents_in_summary</th>\n",
              "      <th>words_that_start_with_B_and_end_with_G</th>\n",
              "      <th>words_that_start_with_B_and_end_with_G_for_reviewText</th>\n",
              "      <th>words_that_start_with_B_and_end_with_G_for_summary</th>\n",
              "    </tr>\n",
              "  </thead>\n",
              "  <tbody>\n",
              "    <tr>\n",
              "      <th>0</th>\n",
              "      <td>A32T2H8150OJLU</td>\n",
              "      <td>B00000JBLH</td>\n",
              "      <td>ARH</td>\n",
              "      <td>[3, 4]</td>\n",
              "      <td>I bought my first HP12C in about 1984 or so, a...</td>\n",
              "      <td>5</td>\n",
              "      <td>A solid performer, and long time friend</td>\n",
              "      <td>1094169600</td>\n",
              "      <td>09 3, 2004</td>\n",
              "      <td>{'I': 7, 'bought': 1, 'my': 4, 'first': 1, 'HP...</td>\n",
              "      <td>{'A': 1, 'solid': 1, 'performer,': 1, 'and': 1...</td>\n",
              "      <td>{'vowels': 12, 'consonents': 174}</td>\n",
              "      <td>{'vowels': 1, 'consonents': 6}</td>\n",
              "      <td>[long]</td>\n",
              "      <td>[bought, but, by, buy, but, be, but, best, be,...</td>\n",
              "      <td>[long]</td>\n",
              "    </tr>\n",
              "    <tr>\n",
              "      <th>1</th>\n",
              "      <td>A3MAFS04ZABRGO</td>\n",
              "      <td>B00000JBLH</td>\n",
              "      <td>Let it Be \"Alan\"</td>\n",
              "      <td>[7, 9]</td>\n",
              "      <td>WHY THIS BELATED REVIEW? I feel very obliged t...</td>\n",
              "      <td>5</td>\n",
              "      <td>Price of GOLD is up, so don't bury the golden ...</td>\n",
              "      <td>1197676800</td>\n",
              "      <td>12 15, 2007</td>\n",
              "      <td>{'WHY': 1, 'THIS': 2, 'BELATED': 1, 'REVIEW?':...</td>\n",
              "      <td>{'Price': 1, 'of': 1, 'GOLD': 1, 'is': 1, 'up,...</td>\n",
              "      <td>{'vowels': 20, 'consonents': 891}</td>\n",
              "      <td>{'vowels': 0, 'consonents': 13}</td>\n",
              "      <td>[bury]</td>\n",
              "      <td>[BELATED, burying, brandname, best, business, ...</td>\n",
              "      <td>[bury]</td>\n",
              "    </tr>\n",
              "    <tr>\n",
              "      <th>2</th>\n",
              "      <td>A1F1A0QQP2XVH5</td>\n",
              "      <td>B00000JBLH</td>\n",
              "      <td>Mark B</td>\n",
              "      <td>[3, 3]</td>\n",
              "      <td>I have an HP 48GX that has been kicking for mo...</td>\n",
              "      <td>2</td>\n",
              "      <td>Good functionality, but not durable like old HPs</td>\n",
              "      <td>1293840000</td>\n",
              "      <td>01 1, 2011</td>\n",
              "      <td>{'I': 2, 'have': 2, 'an': 2, 'HP': 3, '48GX': ...</td>\n",
              "      <td>{'Good': 1, 'functionality,': 1, 'but': 1, 'no...</td>\n",
              "      <td>{'vowels': 3, 'consonents': 93}</td>\n",
              "      <td>{'vowels': 0, 'consonents': 8}</td>\n",
              "      <td>[but]</td>\n",
              "      <td>[been, But, kicking, giving, working]</td>\n",
              "      <td>[but]</td>\n",
              "    </tr>\n",
              "    <tr>\n",
              "      <th>3</th>\n",
              "      <td>A49R5DBXXQDE5</td>\n",
              "      <td>B00000JBLH</td>\n",
              "      <td>R. D Johnson</td>\n",
              "      <td>[7, 8]</td>\n",
              "      <td>I've started doing more finance stuff recently...</td>\n",
              "      <td>5</td>\n",
              "      <td>One of the last of an almost extinct species</td>\n",
              "      <td>1145404800</td>\n",
              "      <td>04 19, 2006</td>\n",
              "      <td>{'I've': 4, 'started': 1, 'doing': 2, 'more': ...</td>\n",
              "      <td>{'One': 1, 'of': 2, 'the': 1, 'last': 1, 'an':...</td>\n",
              "      <td>{'vowels': 33, 'consonents': 570}</td>\n",
              "      <td>{'vowels': 0, 'consonents': 9}</td>\n",
              "      <td>[]</td>\n",
              "      <td>[been, because, but, buy, Black, But, beats, b...</td>\n",
              "      <td>[]</td>\n",
              "    </tr>\n",
              "    <tr>\n",
              "      <th>4</th>\n",
              "      <td>A2XRMQA6PJ5ZJ8</td>\n",
              "      <td>B00000JBLH</td>\n",
              "      <td>Roger J. Buffington</td>\n",
              "      <td>[0, 0]</td>\n",
              "      <td>For simple calculations and discounted cash fl...</td>\n",
              "      <td>5</td>\n",
              "      <td>Still the best</td>\n",
              "      <td>1375574400</td>\n",
              "      <td>08 4, 2013</td>\n",
              "      <td>{'For': 1, 'simple': 1, 'calculations': 2, 'an...</td>\n",
              "      <td>{'Still': 1, 'the': 1, 'best': 1}</td>\n",
              "      <td>{'vowels': 4, 'consonents': 116}</td>\n",
              "      <td>{'vowels': 0, 'consonents': 3}</td>\n",
              "      <td>[best]</td>\n",
              "      <td>[best, business, but, be, brackets, practicing...</td>\n",
              "      <td>[best]</td>\n",
              "    </tr>\n",
              "  </tbody>\n",
              "</table>\n",
              "</div>"
            ],
            "text/plain": [
              "       reviewerID  ... words_that_start_with_B_and_end_with_G_for_summary\n",
              "0  A32T2H8150OJLU  ...                                             [long]\n",
              "1  A3MAFS04ZABRGO  ...                                             [bury]\n",
              "2  A1F1A0QQP2XVH5  ...                                              [but]\n",
              "3   A49R5DBXXQDE5  ...                                                 []\n",
              "4  A2XRMQA6PJ5ZJ8  ...                                             [best]\n",
              "\n",
              "[5 rows x 16 columns]"
            ]
          },
          "metadata": {
            "tags": []
          },
          "execution_count": 26
        }
      ]
    },
    {
      "cell_type": "code",
      "metadata": {
        "id": "cJxaQ4IQtQaq",
        "colab_type": "code",
        "colab": {}
      },
      "source": [
        "def words_that_does_not_start_with_B_and_end_with_G(l):\n",
        "    l1 = []\n",
        "    b = re.findall(r'\\b[^\\WbB]\\w*', l)\n",
        "    g = re.findall(r'\\b\\w+[^\\WgG]\\b',l)\n",
        "    b = list(set(b))\n",
        "    for x in b:\n",
        "        if x in g:\n",
        "            l1.append(x)\n",
        "    return l1"
      ],
      "execution_count": 0,
      "outputs": []
    },
    {
      "cell_type": "code",
      "metadata": {
        "id": "JNqFW8lxtQdd",
        "colab_type": "code",
        "colab": {}
      },
      "source": [
        "df['words_that_does_not_start_with_B_and_end_with_G_for_reviewText']= df['reviewText'].apply(words_that_does_not_start_with_B_and_end_with_G)\n",
        "df['words_that_does_not_start_with_B_and_end_with_G_for_summary']= df['summary'].apply(words_that_does_not_start_with_B_and_end_with_G)"
      ],
      "execution_count": 0,
      "outputs": []
    },
    {
      "cell_type": "code",
      "metadata": {
        "id": "-22RuohotQf7",
        "colab_type": "code",
        "colab": {
          "base_uri": "https://localhost:8080/",
          "height": 568
        },
        "outputId": "9d84d826-c9b0-419a-bc97-ff620817e781"
      },
      "source": [
        "df.head()"
      ],
      "execution_count": 72,
      "outputs": [
        {
          "output_type": "execute_result",
          "data": {
            "text/html": [
              "<div>\n",
              "<style scoped>\n",
              "    .dataframe tbody tr th:only-of-type {\n",
              "        vertical-align: middle;\n",
              "    }\n",
              "\n",
              "    .dataframe tbody tr th {\n",
              "        vertical-align: top;\n",
              "    }\n",
              "\n",
              "    .dataframe thead th {\n",
              "        text-align: right;\n",
              "    }\n",
              "</style>\n",
              "<table border=\"1\" class=\"dataframe\">\n",
              "  <thead>\n",
              "    <tr style=\"text-align: right;\">\n",
              "      <th></th>\n",
              "      <th>reviewerID</th>\n",
              "      <th>asin</th>\n",
              "      <th>reviewerName</th>\n",
              "      <th>helpful</th>\n",
              "      <th>reviewText</th>\n",
              "      <th>overall</th>\n",
              "      <th>summary</th>\n",
              "      <th>unixReviewTime</th>\n",
              "      <th>reviewTime</th>\n",
              "      <th>count_of_each_word_in_reviewText</th>\n",
              "      <th>count_of_each_word_in_summary</th>\n",
              "      <th>count_vowels_consonents_in_reviewText</th>\n",
              "      <th>count_vowels_consonents_in_summary</th>\n",
              "      <th>words_that_start_with_B_and_end_with_G</th>\n",
              "      <th>words_that_start_with_B_and_end_with_G_for_reviewText</th>\n",
              "      <th>words_that_start_with_B_and_end_with_G_for_summary</th>\n",
              "      <th>words_that_does_not_start_with_B_and_end_with_G_for_reviewText</th>\n",
              "      <th>words_that_does_not_start_with_B_and_end_with_G_for_summary</th>\n",
              "    </tr>\n",
              "  </thead>\n",
              "  <tbody>\n",
              "    <tr>\n",
              "      <th>0</th>\n",
              "      <td>A32T2H8150OJLU</td>\n",
              "      <td>B00000JBLH</td>\n",
              "      <td>ARH</td>\n",
              "      <td>[3, 4]</td>\n",
              "      <td>I bought my first HP12C in about 1984 or so, a...</td>\n",
              "      <td>5</td>\n",
              "      <td>A solid performer, and long time friend</td>\n",
              "      <td>1094169600</td>\n",
              "      <td>09 3, 2004</td>\n",
              "      <td>{'I': 7, 'bought': 1, 'my': 4, 'first': 1, 'HP...</td>\n",
              "      <td>{'A': 1, 'solid': 1, 'performer,': 1, 'and': 1...</td>\n",
              "      <td>{'vowels': 12, 'consonents': 174}</td>\n",
              "      <td>{'vowels': 1, 'consonents': 6}</td>\n",
              "      <td>[long]</td>\n",
              "      <td>[bought, but, by, buy, but, be, but, best, be,...</td>\n",
              "      <td>[long]</td>\n",
              "      <td>[If, what, you, until, other, are, application...</td>\n",
              "      <td>[solid, friend, time, and, performer]</td>\n",
              "    </tr>\n",
              "    <tr>\n",
              "      <th>1</th>\n",
              "      <td>A3MAFS04ZABRGO</td>\n",
              "      <td>B00000JBLH</td>\n",
              "      <td>Let it Be \"Alan\"</td>\n",
              "      <td>[7, 9]</td>\n",
              "      <td>WHY THIS BELATED REVIEW? I feel very obliged t...</td>\n",
              "      <td>5</td>\n",
              "      <td>Price of GOLD is up, so don't bury the golden ...</td>\n",
              "      <td>1197676800</td>\n",
              "      <td>12 15, 2007</td>\n",
              "      <td>{'WHY': 1, 'THIS': 2, 'BELATED': 1, 'REVIEW?':...</td>\n",
              "      <td>{'Price': 1, 'of': 1, 'GOLD': 1, 'is': 1, 'up,...</td>\n",
              "      <td>{'vowels': 20, 'consonents': 891}</td>\n",
              "      <td>{'vowels': 0, 'consonents': 13}</td>\n",
              "      <td>[bury]</td>\n",
              "      <td>[BELATED, burying, brandname, best, business, ...</td>\n",
              "      <td>[bury]</td>\n",
              "      <td>[VI, did, share, disappears, sofware, needs, T...</td>\n",
              "      <td>[Price, up, of, so, don, golden, flagship, HP1...</td>\n",
              "    </tr>\n",
              "    <tr>\n",
              "      <th>2</th>\n",
              "      <td>A1F1A0QQP2XVH5</td>\n",
              "      <td>B00000JBLH</td>\n",
              "      <td>Mark B</td>\n",
              "      <td>[3, 3]</td>\n",
              "      <td>I have an HP 48GX that has been kicking for mo...</td>\n",
              "      <td>2</td>\n",
              "      <td>Good functionality, but not durable like old HPs</td>\n",
              "      <td>1293840000</td>\n",
              "      <td>01 1, 2011</td>\n",
              "      <td>{'I': 2, 'have': 2, 'an': 2, 'HP': 3, '48GX': ...</td>\n",
              "      <td>{'Good': 1, 'functionality,': 1, 'but': 1, 'no...</td>\n",
              "      <td>{'vowels': 3, 'consonents': 93}</td>\n",
              "      <td>{'vowels': 0, 'consonents': 8}</td>\n",
              "      <td>[but]</td>\n",
              "      <td>[been, But, kicking, giving, working]</td>\n",
              "      <td>[but]</td>\n",
              "      <td>[years, still, key, to, months, new, cheaper, ...</td>\n",
              "      <td>[not, Good, functionality, HPs, old, durable, ...</td>\n",
              "    </tr>\n",
              "    <tr>\n",
              "      <th>3</th>\n",
              "      <td>A49R5DBXXQDE5</td>\n",
              "      <td>B00000JBLH</td>\n",
              "      <td>R. D Johnson</td>\n",
              "      <td>[7, 8]</td>\n",
              "      <td>I've started doing more finance stuff recently...</td>\n",
              "      <td>5</td>\n",
              "      <td>One of the last of an almost extinct species</td>\n",
              "      <td>1145404800</td>\n",
              "      <td>04 19, 2006</td>\n",
              "      <td>{'I've': 4, 'started': 1, 'doing': 2, 'more': ...</td>\n",
              "      <td>{'One': 1, 'of': 2, 'the': 1, 'last': 1, 'an':...</td>\n",
              "      <td>{'vowels': 33, 'consonents': 570}</td>\n",
              "      <td>{'vowels': 0, 'consonents': 9}</td>\n",
              "      <td>[]</td>\n",
              "      <td>[been, because, but, buy, Black, But, beats, b...</td>\n",
              "      <td>[]</td>\n",
              "      <td>[last, If, what, computation, computers, money...</td>\n",
              "      <td>[an, last, extinct, of, species, almost, the, ...</td>\n",
              "    </tr>\n",
              "    <tr>\n",
              "      <th>4</th>\n",
              "      <td>A2XRMQA6PJ5ZJ8</td>\n",
              "      <td>B00000JBLH</td>\n",
              "      <td>Roger J. Buffington</td>\n",
              "      <td>[0, 0]</td>\n",
              "      <td>For simple calculations and discounted cash fl...</td>\n",
              "      <td>5</td>\n",
              "      <td>Still the best</td>\n",
              "      <td>1375574400</td>\n",
              "      <td>08 4, 2013</td>\n",
              "      <td>{'For': 1, 'simple': 1, 'calculations': 2, 'an...</td>\n",
              "      <td>{'Still': 1, 'the': 1, 'best': 1}</td>\n",
              "      <td>{'vowels': 4, 'consonents': 116}</td>\n",
              "      <td>{'vowels': 0, 'consonents': 3}</td>\n",
              "      <td>[best]</td>\n",
              "      <td>[best, business, but, be, brackets, practicing...</td>\n",
              "      <td>[best]</td>\n",
              "      <td>[what, you, am, Many, Of, place, want, RJB, go...</td>\n",
              "      <td>[the, Still]</td>\n",
              "    </tr>\n",
              "  </tbody>\n",
              "</table>\n",
              "</div>"
            ],
            "text/plain": [
              "       reviewerID  ... words_that_does_not_start_with_B_and_end_with_G_for_summary\n",
              "0  A32T2H8150OJLU  ...              [solid, friend, time, and, performer]         \n",
              "1  A3MAFS04ZABRGO  ...  [Price, up, of, so, don, golden, flagship, HP1...         \n",
              "2  A1F1A0QQP2XVH5  ...  [not, Good, functionality, HPs, old, durable, ...         \n",
              "3   A49R5DBXXQDE5  ...  [an, last, extinct, of, species, almost, the, ...         \n",
              "4  A2XRMQA6PJ5ZJ8  ...                                       [the, Still]         \n",
              "\n",
              "[5 rows x 18 columns]"
            ]
          },
          "metadata": {
            "tags": []
          },
          "execution_count": 72
        }
      ]
    },
    {
      "cell_type": "code",
      "metadata": {
        "id": "li5R3G7ltQi2",
        "colab_type": "code",
        "colab": {}
      },
      "source": [
        ""
      ],
      "execution_count": 0,
      "outputs": []
    },
    {
      "cell_type": "code",
      "metadata": {
        "id": "9tOd-hqxtQmI",
        "colab_type": "code",
        "colab": {}
      },
      "source": [
        ""
      ],
      "execution_count": 0,
      "outputs": []
    },
    {
      "cell_type": "code",
      "metadata": {
        "id": "I2e2nU3HtQoy",
        "colab_type": "code",
        "colab": {}
      },
      "source": [
        ""
      ],
      "execution_count": 0,
      "outputs": []
    },
    {
      "cell_type": "code",
      "metadata": {
        "id": "60Q2O41DtQrn",
        "colab_type": "code",
        "colab": {}
      },
      "source": [
        ""
      ],
      "execution_count": 0,
      "outputs": []
    },
    {
      "cell_type": "code",
      "metadata": {
        "id": "3qDi9MwStQug",
        "colab_type": "code",
        "colab": {}
      },
      "source": [
        ""
      ],
      "execution_count": 0,
      "outputs": []
    },
    {
      "cell_type": "code",
      "metadata": {
        "id": "zPNqEkH1tQxB",
        "colab_type": "code",
        "colab": {}
      },
      "source": [
        ""
      ],
      "execution_count": 0,
      "outputs": []
    },
    {
      "cell_type": "code",
      "metadata": {
        "id": "h80SAMXktQzd",
        "colab_type": "code",
        "colab": {}
      },
      "source": [
        ""
      ],
      "execution_count": 0,
      "outputs": []
    },
    {
      "cell_type": "code",
      "metadata": {
        "id": "Q14TvskCtQ16",
        "colab_type": "code",
        "colab": {}
      },
      "source": [
        ""
      ],
      "execution_count": 0,
      "outputs": []
    },
    {
      "cell_type": "code",
      "metadata": {
        "id": "phvfRkg0tQ4s",
        "colab_type": "code",
        "colab": {}
      },
      "source": [
        ""
      ],
      "execution_count": 0,
      "outputs": []
    },
    {
      "cell_type": "code",
      "metadata": {
        "id": "p0ECV0-utQ7o",
        "colab_type": "code",
        "colab": {}
      },
      "source": [
        ""
      ],
      "execution_count": 0,
      "outputs": []
    },
    {
      "cell_type": "code",
      "metadata": {
        "id": "rKn-O5I3tQ-d",
        "colab_type": "code",
        "colab": {}
      },
      "source": [
        ""
      ],
      "execution_count": 0,
      "outputs": []
    },
    {
      "cell_type": "code",
      "metadata": {
        "id": "o4P4sLUItRBh",
        "colab_type": "code",
        "colab": {}
      },
      "source": [
        ""
      ],
      "execution_count": 0,
      "outputs": []
    },
    {
      "cell_type": "code",
      "metadata": {
        "id": "-plxDslctREH",
        "colab_type": "code",
        "colab": {}
      },
      "source": [
        ""
      ],
      "execution_count": 0,
      "outputs": []
    },
    {
      "cell_type": "code",
      "metadata": {
        "id": "_diHiGWhtRJk",
        "colab_type": "code",
        "colab": {}
      },
      "source": [
        ""
      ],
      "execution_count": 0,
      "outputs": []
    },
    {
      "cell_type": "code",
      "metadata": {
        "id": "LFfqtsYOtRML",
        "colab_type": "code",
        "colab": {}
      },
      "source": [
        ""
      ],
      "execution_count": 0,
      "outputs": []
    },
    {
      "cell_type": "code",
      "metadata": {
        "id": "ERm20IEPtRPm",
        "colab_type": "code",
        "colab": {}
      },
      "source": [
        ""
      ],
      "execution_count": 0,
      "outputs": []
    },
    {
      "cell_type": "code",
      "metadata": {
        "id": "8LN7N5sMtRSY",
        "colab_type": "code",
        "colab": {}
      },
      "source": [
        ""
      ],
      "execution_count": 0,
      "outputs": []
    },
    {
      "cell_type": "code",
      "metadata": {
        "id": "TRTbnjdCtRV1",
        "colab_type": "code",
        "colab": {}
      },
      "source": [
        ""
      ],
      "execution_count": 0,
      "outputs": []
    },
    {
      "cell_type": "code",
      "metadata": {
        "id": "r8yjBvrLtRHs",
        "colab_type": "code",
        "colab": {}
      },
      "source": [
        ""
      ],
      "execution_count": 0,
      "outputs": []
    }
  ]
}